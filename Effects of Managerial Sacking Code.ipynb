{
 "cells": [
  {
   "cell_type": "markdown",
   "metadata": {},
   "source": [
    "### Data Loading and Cleaning"
   ]
  },
  {
   "cell_type": "code",
   "execution_count": 2,
   "metadata": {},
   "outputs": [],
   "source": [
    "import numpy as np\n",
    "import pandas as pd\n",
    "import sqlite3 as sql\n",
    "import matplotlib.pyplot as plt"
   ]
  },
  {
   "cell_type": "code",
   "execution_count": 3,
   "metadata": {},
   "outputs": [],
   "source": [
    "#create connection to database file\n",
    "database = \"Season.db\"\n",
    "connection = sql.connect(database)"
   ]
  },
  {
   "cell_type": "code",
   "execution_count": 4,
   "metadata": {},
   "outputs": [],
   "source": [
    "query1819 = '''Select Date,HomeTeam,AwayTeam,FTR FROM season_1819 '''\n",
    "query1718 = '''Select Date,HomeTeam,AwayTeam,FTR FROM season_1718 '''\n",
    "query1617 = '''Select Date,HomeTeam,AwayTeam,FTR FROM season_1617 '''\n",
    "query1516 = '''Select Date,HomeTeam,AwayTeam,FTR FROM season_1516 '''\n",
    "query1415 = '''Select Date,HomeTeam,AwayTeam,FTR FROM season_1415 '''\n",
    "query1314 = '''Select Date,HomeTeam,AwayTeam,FTR FROM season_1314 '''\n",
    "query1213 = '''Select Date,HomeTeam,AwayTeam,FTR FROM season_1213 '''\n",
    "query1112 = '''Select Date,HomeTeam,AwayTeam,FTR FROM season_1112 '''\n",
    "query1011 = '''Select Date,HomeTeam,AwayTeam,FTR FROM season_1011 '''\n",
    "query0910 = '''Select Date,HomeTeam,AwayTeam,FTR FROM season_0910 '''"
   ]
  },
  {
   "cell_type": "code",
   "execution_count": 5,
   "metadata": {},
   "outputs": [],
   "source": [
    "#Each dataframe is ordered by date of soccer game, but not all data frames have the same date format\n",
    "df1819 = pd.read_sql_query(query1819,connection)\n",
    "df1718 = pd.read_sql_query(query1718,connection)\n",
    "df1617 = pd.read_sql_query(query1617,connection)\n",
    "df1516 = pd.read_sql_query(query1516,connection)\n",
    "df1415 = pd.read_sql_query(query1415,connection)\n",
    "df1314 = pd.read_sql_query(query1314,connection)\n",
    "df1213 = pd.read_sql_query(query1213,connection)\n",
    "df1112 = pd.read_sql_query(query1112,connection)\n",
    "df1011 = pd.read_sql_query(query1011,connection)\n",
    "df0910 = pd.read_sql_query(query0910,connection)"
   ]
  },
  {
   "cell_type": "code",
   "execution_count": 6,
   "metadata": {},
   "outputs": [],
   "source": [
    "#function to standardize date structure to (YYYY/mm/dd)\n",
    "import datetime\n",
    "import re\n",
    "\n",
    "def fix_date(dataframe):\n",
    "    y_dash = re.compile('\\d{4}-.*-.*')  #detect data frames with date format (YYYY-mm-dd)\n",
    "    slash_Y = re.compile('.*/.*/\\d{4}') #detect data frames with date format (dd/mm/YYYY)\n",
    "    dmy = re.compile('.*/.*/\\d{2}$')    #detect data frames with date format (dd/mm/yy)\n",
    "    for date in range(len(dataframe)):\n",
    "        if y_dash.match(dataframe['Date'][date]) is not None:     #if formatted as (YYYY-mm-dd) change to (YYYY/mm/dd)\n",
    "            dataframe['Date'][date] = datetime.datetime.strptime(dataframe['Date'][date], '%Y-%m-%d').strftime('%Y/%m/%d')\n",
    "        elif slash_Y.match(dataframe['Date'][date]) is not None:  #if formatted as (dd/mm/YYYY) change to (YYYY/mm/dd)\n",
    "            dataframe['Date'][date] = datetime.datetime.strptime(dataframe['Date'][date], '%d/%m/%Y').strftime('%Y/%m/%d')\n",
    "        elif dmy.match(dataframe['Date'][date]) is not None:      #if formatted as (dd/mm/yy) change to (YYYY/mm/dd)\n",
    "            dataframe['Date'][date] = datetime.datetime.strptime(dataframe['Date'][date], '%d/%m/%y').strftime('%Y/%m/%d')"
   ]
  },
  {
   "cell_type": "code",
   "execution_count": 7,
   "metadata": {},
   "outputs": [
    {
     "data": {
      "text/html": [
       "<div>\n",
       "<style scoped>\n",
       "    .dataframe tbody tr th:only-of-type {\n",
       "        vertical-align: middle;\n",
       "    }\n",
       "\n",
       "    .dataframe tbody tr th {\n",
       "        vertical-align: top;\n",
       "    }\n",
       "\n",
       "    .dataframe thead th {\n",
       "        text-align: right;\n",
       "    }\n",
       "</style>\n",
       "<table border=\"1\" class=\"dataframe\">\n",
       "  <thead>\n",
       "    <tr style=\"text-align: right;\">\n",
       "      <th></th>\n",
       "      <th>Date</th>\n",
       "      <th>HomeTeam</th>\n",
       "      <th>AwayTeam</th>\n",
       "      <th>FTR</th>\n",
       "    </tr>\n",
       "  </thead>\n",
       "  <tbody>\n",
       "    <tr>\n",
       "      <th>0</th>\n",
       "      <td>2011/08/13</td>\n",
       "      <td>Blackburn</td>\n",
       "      <td>Wolves</td>\n",
       "      <td>A</td>\n",
       "    </tr>\n",
       "    <tr>\n",
       "      <th>1</th>\n",
       "      <td>2011/08/13</td>\n",
       "      <td>Fulham</td>\n",
       "      <td>Aston Villa</td>\n",
       "      <td>D</td>\n",
       "    </tr>\n",
       "    <tr>\n",
       "      <th>2</th>\n",
       "      <td>2011/08/13</td>\n",
       "      <td>Liverpool</td>\n",
       "      <td>Sunderland</td>\n",
       "      <td>D</td>\n",
       "    </tr>\n",
       "    <tr>\n",
       "      <th>3</th>\n",
       "      <td>2011/08/13</td>\n",
       "      <td>Newcastle</td>\n",
       "      <td>Arsenal</td>\n",
       "      <td>D</td>\n",
       "    </tr>\n",
       "    <tr>\n",
       "      <th>4</th>\n",
       "      <td>2011/08/13</td>\n",
       "      <td>QPR</td>\n",
       "      <td>Bolton</td>\n",
       "      <td>A</td>\n",
       "    </tr>\n",
       "  </tbody>\n",
       "</table>\n",
       "</div>"
      ],
      "text/plain": [
       "         Date   HomeTeam     AwayTeam FTR\n",
       "0  2011/08/13  Blackburn       Wolves   A\n",
       "1  2011/08/13     Fulham  Aston Villa   D\n",
       "2  2011/08/13  Liverpool   Sunderland   D\n",
       "3  2011/08/13  Newcastle      Arsenal   D\n",
       "4  2011/08/13        QPR       Bolton   A"
      ]
     },
     "execution_count": 7,
     "metadata": {},
     "output_type": "execute_result"
    }
   ],
   "source": [
    "league_data = [df0910,df1011,df1112,df1213,df1314,df1415,df1516,df1617,df1718,df1819]\n",
    "\n",
    "for i in league_data:\n",
    "    fix_date(i)\n",
    "\n",
    "df1112.head()\n",
    "#Now all dates are standardized in the format (YYYY/mm/dd)"
   ]
  },
  {
   "cell_type": "code",
   "execution_count": 8,
   "metadata": {},
   "outputs": [],
   "source": [
    "# Web scrape for data on managerial changes.\n",
    "import pandas as pd\n",
    "from bs4 import BeautifulSoup\n",
    "import requests\n",
    "\n",
    "url = \"https://en.wikipedia.org/wiki/List_of_Premier_League_managers\"\n",
    "page = requests.get(url)\n",
    "soup = BeautifulSoup(page.content, 'html.parser')\n",
    "tb = soup.find('table', class_='wikitable sortable plainrowheaders')"
   ]
  },
  {
   "cell_type": "code",
   "execution_count": 9,
   "metadata": {},
   "outputs": [
    {
     "data": {
      "text/html": [
       "<div>\n",
       "<style scoped>\n",
       "    .dataframe tbody tr th:only-of-type {\n",
       "        vertical-align: middle;\n",
       "    }\n",
       "\n",
       "    .dataframe tbody tr th {\n",
       "        vertical-align: top;\n",
       "    }\n",
       "\n",
       "    .dataframe thead th {\n",
       "        text-align: right;\n",
       "    }\n",
       "</style>\n",
       "<table border=\"1\" class=\"dataframe\">\n",
       "  <thead>\n",
       "    <tr style=\"text-align: right;\">\n",
       "      <th></th>\n",
       "      <th>Name</th>\n",
       "      <th>Nat</th>\n",
       "      <th>Club</th>\n",
       "      <th>From</th>\n",
       "      <th>Until</th>\n",
       "      <th>Duration</th>\n",
       "      <th>Years</th>\n",
       "      <th>Ref</th>\n",
       "    </tr>\n",
       "  </thead>\n",
       "  <tbody>\n",
       "    <tr>\n",
       "      <th>0</th>\n",
       "      <td>Name</td>\n",
       "      <td>Nat.</td>\n",
       "      <td>Club</td>\n",
       "      <td>From</td>\n",
       "      <td>Until</td>\n",
       "      <td>Duration</td>\n",
       "      <td>Years in</td>\n",
       "      <td>Ref.</td>\n",
       "    </tr>\n",
       "    <tr>\n",
       "      <th>1</th>\n",
       "      <td>George Graham</td>\n",
       "      <td></td>\n",
       "      <td>Arsenal</td>\n",
       "      <td>14 May 1986</td>\n",
       "      <td>21 February 1995</td>\n",
       "      <td>3205</td>\n",
       "      <td>1992–1995</td>\n",
       "      <td>[2]</td>\n",
       "    </tr>\n",
       "    <tr>\n",
       "      <th>2</th>\n",
       "      <td>Stewart Houston</td>\n",
       "      <td></td>\n",
       "      <td>Arsenal</td>\n",
       "      <td>22 February 1995</td>\n",
       "      <td>8 June 1995</td>\n",
       "      <td>106</td>\n",
       "      <td>1995</td>\n",
       "      <td>[3]</td>\n",
       "    </tr>\n",
       "    <tr>\n",
       "      <th>3</th>\n",
       "      <td>Bruce Rioch</td>\n",
       "      <td></td>\n",
       "      <td>Arsenal</td>\n",
       "      <td>8 June 1995</td>\n",
       "      <td>12 August 1996</td>\n",
       "      <td>431</td>\n",
       "      <td>1995–1996</td>\n",
       "      <td>[2]</td>\n",
       "    </tr>\n",
       "    <tr>\n",
       "      <th>4</th>\n",
       "      <td>Stewart Houston</td>\n",
       "      <td></td>\n",
       "      <td>Arsenal</td>\n",
       "      <td>12 August 1996</td>\n",
       "      <td>13 September 1996</td>\n",
       "      <td>32</td>\n",
       "      <td>1996</td>\n",
       "      <td>[3]</td>\n",
       "    </tr>\n",
       "  </tbody>\n",
       "</table>\n",
       "</div>"
      ],
      "text/plain": [
       "              Name   Nat     Club              From              Until  \\\n",
       "0            Name\n",
       "  Nat.    Club\n",
       "             From\n",
       "             Until\n",
       "   \n",
       "1    George Graham     \n",
       "  Arsenal       14 May 1986   21 February 1995   \n",
       "2  Stewart Houston     \n",
       "  Arsenal  22 February 1995        8 June 1995   \n",
       "3      Bruce Rioch     \n",
       "  Arsenal       8 June 1995     12 August 1996   \n",
       "4  Stewart Houston     \n",
       "  Arsenal    12 August 1996  13 September 1996   \n",
       "\n",
       "   Duration       Years   Ref  \n",
       "0  Duration    Years in  Ref.  \n",
       "1     3205\n",
       "  1992–1995\n",
       "   [2]  \n",
       "2      106\n",
       "       1995\n",
       "   [3]  \n",
       "3      431\n",
       "  1995–1996\n",
       "   [2]  \n",
       "4       32\n",
       "       1996\n",
       "   [3]  "
      ]
     },
     "execution_count": 9,
     "metadata": {},
     "output_type": "execute_result"
    }
   ],
   "source": [
    "A=[]\n",
    "B=[]\n",
    "C=[]\n",
    "D=[]\n",
    "E=[]\n",
    "F=[]\n",
    "G=[]\n",
    "H=[]\n",
    "\n",
    "for row in tb.findAll('tr'):\n",
    "    cells=row.findAll(['th', 'td'])\n",
    "    if len(cells)==8:\n",
    "        A.append(cells[0].find(text=True))\n",
    "        B.append(cells[1].find(text=True))\n",
    "        C.append(cells[2].find(text=True))\n",
    "        D.append(cells[3].find(text=True))\n",
    "        E.append(cells[4].find(text=True))\n",
    "        F.append(cells[5].find(text=True))\n",
    "        G.append(cells[6].find(text=True))\n",
    "        H.append(cells[7].find(text=True))\n",
    "\n",
    "df=pd.DataFrame(A,columns=['Name'])\n",
    "df['Nat']=B\n",
    "df['Club']=C\n",
    "df['From']=D\n",
    "df['Until']=E\n",
    "df['Duration']=F\n",
    "df['Years']=G\n",
    "df['Ref']=H\n",
    "\n",
    "df.head()"
   ]
  },
  {
   "cell_type": "code",
   "execution_count": 10,
   "metadata": {},
   "outputs": [],
   "source": [
    "#remove first row and irrelevant columns; reindex rows\n",
    "managers = df.drop([0])\n",
    "managers = managers.reset_index(drop=True)\n",
    "managers = managers.drop(columns=['Nat','Years','Ref'])"
   ]
  },
  {
   "cell_type": "code",
   "execution_count": 11,
   "metadata": {},
   "outputs": [],
   "source": [
    "for i in range(len(managers)):\n",
    "    if bool(re.search('May|June|July|August', managers['Until'][i])) and bool(re.search('May|June|July|August', managers['From'][i])):\n",
    "        managers = managers.drop([i]) # Drop managers that were hired at the beginning of a season and left at the end.\n",
    "    elif(bool(re.search('May|June|July|August', managers['Until'][i])) and list(map(int,re.findall('\\d+', managers['From'][i]))) < [2009,8,15]):\n",
    "        managers = managers.drop([i]) # Drop managers that ended their term in May\n",
    "\n",
    "managers = managers.reset_index(drop=True)"
   ]
  },
  {
   "cell_type": "code",
   "execution_count": 12,
   "metadata": {},
   "outputs": [],
   "source": [
    "# Fixing date formats in 'From' column to (YYYY/mm/dd)\n",
    "import datetime\n",
    "\n",
    "def fix_datefrom(dataframe): # fix date format in 'From' column\n",
    "    for i in range(len(dataframe)):\n",
    "        dataframe['From'][i] = datetime.datetime.strptime(dataframe['From'][i], '%d %B %Y').strftime('%Y/%m/%d')\n",
    "        \n",
    "\n",
    "fix_datefrom(managers)\n",
    "# Now all dates in 'From' column are in the format (YYYY/mm/dd)"
   ]
  },
  {
   "cell_type": "code",
   "execution_count": 13,
   "metadata": {},
   "outputs": [],
   "source": [
    "# Fixing date formats in 'Until' column to (YYYY/mm/dd)\n",
    "\n",
    "def fix_dateuntil(dataframe): #fix date format in 'Until' column; replace 'Present' with today's date\n",
    "    for i in range(len(dataframe)):\n",
    "        if dataframe['Until'][i] == 'Present':\n",
    "            dataframe['Until'][i] = '2019/10/22' # fix the date to the end of 18/19 season date\n",
    "        else:\n",
    "            dataframe['Until'][i] = datetime.datetime.strptime(dataframe['Until'][i], '%d %B %Y').strftime('%Y/%m/%d')\n",
    "            \n",
    "fix_dateuntil(managers)\n",
    "# Now all dates in 'Until' column are in the format (YYYY/mm/dd)"
   ]
  },
  {
   "cell_type": "code",
   "execution_count": 14,
   "metadata": {},
   "outputs": [],
   "source": [
    "# Remove temporary managers (often times regular coaches that take the role of a manager until a replacement is found)\n",
    "# We will set a threshold of 100 days (i.e. Duration < 100)\n",
    "\n",
    "for i in range(len(managers)):\n",
    "    if int(managers['Duration'][i]) < 100:\n",
    "        managers = managers.drop([i])\n",
    "        \n",
    "managers = managers.reset_index(drop=True)"
   ]
  },
  {
   "cell_type": "code",
   "execution_count": 15,
   "metadata": {},
   "outputs": [],
   "source": [
    "# Remove managers that were *not* sacked or hired during our desired timeframe (2009 - 2019)\n",
    "\n",
    "for i in range(len(managers)):\n",
    "    if list(map(int,re.findall('\\d+', managers['Until'][i]))) < [2009,8,15]:  #if manager was in charge until before 2009 Aug 15\n",
    "        managers = managers.drop([i])\n",
    "    elif list(map(int,re.findall('\\d+', managers['From'][i]))) > [2019,5,12]: #if manager was in charge after 2019 May 12\n",
    "        managers = managers.drop([i])\n",
    "        \n",
    "managers = managers.reset_index(drop=True)"
   ]
  },
  {
   "cell_type": "code",
   "execution_count": 16,
   "metadata": {},
   "outputs": [],
   "source": [
    "# create a dictionary of how many managerial changes each team went through given our filters\n",
    "d = {}\n",
    "\n",
    "for i in range(len(managers)):\n",
    "    if d.get(managers['Club'][i]) != None:\n",
    "        d[managers['Club'][i]] += 1\n",
    "    else:\n",
    "        d[managers['Club'][i]] = 1"
   ]
  },
  {
   "cell_type": "code",
   "execution_count": 17,
   "metadata": {},
   "outputs": [],
   "source": [
    "# convert the dictionary into a dataframe for easier manipulation\n",
    "counts = pd.Series(d)\n",
    "manager_count = pd.DataFrame({'Changes': counts})"
   ]
  },
  {
   "cell_type": "code",
   "execution_count": 18,
   "metadata": {},
   "outputs": [
    {
     "data": {
      "text/html": [
       "<div>\n",
       "<style scoped>\n",
       "    .dataframe tbody tr th:only-of-type {\n",
       "        vertical-align: middle;\n",
       "    }\n",
       "\n",
       "    .dataframe tbody tr th {\n",
       "        vertical-align: top;\n",
       "    }\n",
       "\n",
       "    .dataframe thead th {\n",
       "        text-align: right;\n",
       "    }\n",
       "</style>\n",
       "<table border=\"1\" class=\"dataframe\">\n",
       "  <thead>\n",
       "    <tr style=\"text-align: right;\">\n",
       "      <th></th>\n",
       "      <th>Name</th>\n",
       "      <th>Club</th>\n",
       "      <th>From</th>\n",
       "      <th>Until</th>\n",
       "      <th>Duration</th>\n",
       "    </tr>\n",
       "  </thead>\n",
       "  <tbody>\n",
       "    <tr>\n",
       "      <th>0</th>\n",
       "      <td>Unai Emery</td>\n",
       "      <td>Arsenal</td>\n",
       "      <td>2018/05/23</td>\n",
       "      <td>2019/10/22</td>\n",
       "      <td>537</td>\n",
       "    </tr>\n",
       "    <tr>\n",
       "      <th>1</th>\n",
       "      <td>Paul Lambert</td>\n",
       "      <td>Aston Villa</td>\n",
       "      <td>2012/06/02</td>\n",
       "      <td>2015/02/11</td>\n",
       "      <td>985</td>\n",
       "    </tr>\n",
       "    <tr>\n",
       "      <th>2</th>\n",
       "      <td>Tim Sherwood</td>\n",
       "      <td>Aston Villa</td>\n",
       "      <td>2015/02/14</td>\n",
       "      <td>2015/10/25</td>\n",
       "      <td>253</td>\n",
       "    </tr>\n",
       "    <tr>\n",
       "      <th>3</th>\n",
       "      <td>Rémi Garde</td>\n",
       "      <td>Aston Villa</td>\n",
       "      <td>2015/11/02</td>\n",
       "      <td>2016/03/29</td>\n",
       "      <td>148</td>\n",
       "    </tr>\n",
       "    <tr>\n",
       "      <th>4</th>\n",
       "      <td>Dean Smith</td>\n",
       "      <td>Aston Villa</td>\n",
       "      <td>2018/10/10</td>\n",
       "      <td>2019/10/22</td>\n",
       "      <td>397</td>\n",
       "    </tr>\n",
       "  </tbody>\n",
       "</table>\n",
       "</div>"
      ],
      "text/plain": [
       "           Name         Club        From       Until Duration\n",
       "0    Unai Emery      Arsenal  2018/05/23  2019/10/22     537\n",
       "\n",
       "1  Paul Lambert  Aston Villa  2012/06/02  2015/02/11     985\n",
       "\n",
       "2  Tim Sherwood  Aston Villa  2015/02/14  2015/10/25     253\n",
       "\n",
       "3    Rémi Garde  Aston Villa  2015/11/02  2016/03/29     148\n",
       "\n",
       "4    Dean Smith  Aston Villa  2018/10/10  2019/10/22     397"
      ]
     },
     "execution_count": 18,
     "metadata": {},
     "output_type": "execute_result"
    }
   ],
   "source": [
    "managers.head()"
   ]
  },
  {
   "cell_type": "code",
   "execution_count": 19,
   "metadata": {},
   "outputs": [
    {
     "data": {
      "text/plain": [
       "['Arsenal',\n",
       " 'Blackpool',\n",
       " 'Bournemouth',\n",
       " 'Huddersfield Town',\n",
       " 'Portsmouth',\n",
       " 'Sheffield United',\n",
       " 'Stoke City']"
      ]
     },
     "execution_count": 19,
     "metadata": {},
     "output_type": "execute_result"
    }
   ],
   "source": [
    "# Find names of teams with just one managerial change data\n",
    "del_teams = []\n",
    "for i in range(len(manager_count)):\n",
    "    if manager_count['Changes'][i]==1:\n",
    "        del_teams.append(str(manager_count.index[i]))\n",
    "\n",
    "del_teams"
   ]
  },
  {
   "cell_type": "code",
   "execution_count": 20,
   "metadata": {},
   "outputs": [],
   "source": [
    "# Find the index of teams with only one managerial change\n",
    "del_index=[]\n",
    "for i in range(len(managers)):\n",
    "    for j in range(len(del_teams)):\n",
    "        if (del_teams[j] == managers['Club'][i]):\n",
    "            del_index.append(i)\n",
    "\n",
    "# Remove teams with just one managerial change from managers data frame.\n",
    "sackings = managers.drop(del_index)\n",
    "sackings = sackings.reset_index(drop=True)\n",
    "sackings = sackings.drop(columns=['Name','Duration'])"
   ]
  },
  {
   "cell_type": "code",
   "execution_count": 21,
   "metadata": {},
   "outputs": [],
   "source": [
    "#Remove spacing in team names\n",
    "for i in range(len(sackings)):\n",
    "    sackings['Club'][i] = sackings['Club'][i].replace(\" \", \"\")"
   ]
  },
  {
   "cell_type": "code",
   "execution_count": 22,
   "metadata": {},
   "outputs": [
    {
     "data": {
      "text/html": [
       "<div>\n",
       "<style scoped>\n",
       "    .dataframe tbody tr th:only-of-type {\n",
       "        vertical-align: middle;\n",
       "    }\n",
       "\n",
       "    .dataframe tbody tr th {\n",
       "        vertical-align: top;\n",
       "    }\n",
       "\n",
       "    .dataframe thead th {\n",
       "        text-align: right;\n",
       "    }\n",
       "</style>\n",
       "<table border=\"1\" class=\"dataframe\">\n",
       "  <thead>\n",
       "    <tr style=\"text-align: right;\">\n",
       "      <th></th>\n",
       "      <th>Club</th>\n",
       "      <th>From</th>\n",
       "      <th>Until</th>\n",
       "    </tr>\n",
       "  </thead>\n",
       "  <tbody>\n",
       "    <tr>\n",
       "      <th>0</th>\n",
       "      <td>AstonVilla</td>\n",
       "      <td>2012/06/02</td>\n",
       "      <td>2015/02/11</td>\n",
       "    </tr>\n",
       "    <tr>\n",
       "      <th>1</th>\n",
       "      <td>AstonVilla</td>\n",
       "      <td>2015/02/14</td>\n",
       "      <td>2015/10/25</td>\n",
       "    </tr>\n",
       "    <tr>\n",
       "      <th>2</th>\n",
       "      <td>AstonVilla</td>\n",
       "      <td>2015/11/02</td>\n",
       "      <td>2016/03/29</td>\n",
       "    </tr>\n",
       "    <tr>\n",
       "      <th>3</th>\n",
       "      <td>AstonVilla</td>\n",
       "      <td>2018/10/10</td>\n",
       "      <td>2019/10/22</td>\n",
       "    </tr>\n",
       "    <tr>\n",
       "      <th>4</th>\n",
       "      <td>BlackburnRovers</td>\n",
       "      <td>2008/12/17</td>\n",
       "      <td>2010/12/13</td>\n",
       "    </tr>\n",
       "  </tbody>\n",
       "</table>\n",
       "</div>"
      ],
      "text/plain": [
       "              Club        From       Until\n",
       "0       AstonVilla  2012/06/02  2015/02/11\n",
       "1       AstonVilla  2015/02/14  2015/10/25\n",
       "2       AstonVilla  2015/11/02  2016/03/29\n",
       "3       AstonVilla  2018/10/10  2019/10/22\n",
       "4  BlackburnRovers  2008/12/17  2010/12/13"
      ]
     },
     "execution_count": 22,
     "metadata": {},
     "output_type": "execute_result"
    }
   ],
   "source": [
    "sackings.head()"
   ]
  },
  {
   "cell_type": "code",
   "execution_count": 23,
   "metadata": {},
   "outputs": [],
   "source": [
    "# Create global dataframes for each team\n",
    "# drop the 'Club' column\n",
    "# append the 'Until' column to 'From' column\n",
    "# create a column 'Status' with elements 'C' for \"change\"\n",
    "gbl = globals()\n",
    "for i in sackings.Club.unique():\n",
    "    gbl[i] = sackings[sackings.Club==i].drop(columns=['Club'])\n",
    "    gbl[i] = gbl[i]['From'].append(gbl[i]['Until']).reset_index(drop=True)\n",
    "    gbl[i] = pd.DataFrame(gbl[i],columns=['Date'])\n",
    "    gbl[i] = pd.concat([gbl[i], pd.DataFrame(['C']*len(gbl[i]), columns=['Status'])], axis=1)"
   ]
  },
  {
   "cell_type": "code",
   "execution_count": 24,
   "metadata": {},
   "outputs": [],
   "source": [
    "# delete rows within each team's dataframe if the changes occured in May, June, July, or August\n",
    "# delete rows if the date is the present date (2019/10/22)\n",
    "# delete rows if the date is before 2009/08/15\n",
    "\n",
    "for i in sackings.Club.unique():\n",
    "    iterlen=len(gbl[i])\n",
    "    pattern = re.compile('\\d{4}/(05|06|07|08)/\\d{2}')\n",
    "    present = re.compile('2019/10/22')\n",
    "    for j in range(iterlen):\n",
    "        if gbl[i]['Status'][j] == 'C' and bool(pattern.match(gbl[i]['Date'][j])):\n",
    "            gbl[i] = gbl[i].drop([j])\n",
    "        elif gbl[i]['Status'][j] == 'C' and bool(present.match(gbl[i]['Date'][j])):\n",
    "            gbl[i] = gbl[i].drop([j])\n",
    "        elif list(map(int,re.findall('\\d+', gbl[i]['Date'][j]))) < [2009,8,15]:\n",
    "            gbl[i] = gbl[i].drop([j])\n",
    "    gbl[i] = gbl[i].reset_index(drop=True)"
   ]
  },
  {
   "cell_type": "code",
   "execution_count": 25,
   "metadata": {},
   "outputs": [
    {
     "data": {
      "text/html": [
       "<div>\n",
       "<style scoped>\n",
       "    .dataframe tbody tr th:only-of-type {\n",
       "        vertical-align: middle;\n",
       "    }\n",
       "\n",
       "    .dataframe tbody tr th {\n",
       "        vertical-align: top;\n",
       "    }\n",
       "\n",
       "    .dataframe thead th {\n",
       "        text-align: right;\n",
       "    }\n",
       "</style>\n",
       "<table border=\"1\" class=\"dataframe\">\n",
       "  <thead>\n",
       "    <tr style=\"text-align: right;\">\n",
       "      <th></th>\n",
       "      <th>Date</th>\n",
       "      <th>Status</th>\n",
       "    </tr>\n",
       "  </thead>\n",
       "  <tbody>\n",
       "    <tr>\n",
       "      <th>0</th>\n",
       "      <td>2015/02/14</td>\n",
       "      <td>C</td>\n",
       "    </tr>\n",
       "    <tr>\n",
       "      <th>1</th>\n",
       "      <td>2015/11/02</td>\n",
       "      <td>C</td>\n",
       "    </tr>\n",
       "    <tr>\n",
       "      <th>2</th>\n",
       "      <td>2018/10/10</td>\n",
       "      <td>C</td>\n",
       "    </tr>\n",
       "    <tr>\n",
       "      <th>3</th>\n",
       "      <td>2015/02/11</td>\n",
       "      <td>C</td>\n",
       "    </tr>\n",
       "    <tr>\n",
       "      <th>4</th>\n",
       "      <td>2015/10/25</td>\n",
       "      <td>C</td>\n",
       "    </tr>\n",
       "    <tr>\n",
       "      <th>5</th>\n",
       "      <td>2016/03/29</td>\n",
       "      <td>C</td>\n",
       "    </tr>\n",
       "  </tbody>\n",
       "</table>\n",
       "</div>"
      ],
      "text/plain": [
       "         Date Status\n",
       "0  2015/02/14      C\n",
       "1  2015/11/02      C\n",
       "2  2018/10/10      C\n",
       "3  2015/02/11      C\n",
       "4  2015/10/25      C\n",
       "5  2016/03/29      C"
      ]
     },
     "execution_count": 25,
     "metadata": {},
     "output_type": "execute_result"
    }
   ],
   "source": [
    "# each team should now have a global data frame called by their respective names and should look like this:\n",
    "AstonVilla"
   ]
  },
  {
   "cell_type": "markdown",
   "metadata": {},
   "source": [
    "### Cleaning Premier League Data"
   ]
  },
  {
   "cell_type": "code",
   "execution_count": 26,
   "metadata": {},
   "outputs": [],
   "source": [
    "# Now we rearrange the Premier League fixtures data which we queried earlier\n",
    "# recall that league_data = [df0910,df1011,df1112,df1213,df1314,df1415,df1516,df1617,df1718,df1819]\n",
    "final_data = pd.concat(league_data, axis=0).reset_index(drop=True)\n",
    "\n",
    "#Remove spacing in club names to match the name format of the global dataframes we created above\n",
    "for i in range(len(final_data)):\n",
    "    final_data['HomeTeam'][i] = final_data['HomeTeam'][i].replace(\" \", \"\")\n",
    "    final_data['AwayTeam'][i] = final_data['AwayTeam'][i].replace(\" \", \"\")"
   ]
  },
  {
   "cell_type": "code",
   "execution_count": 27,
   "metadata": {},
   "outputs": [
    {
     "data": {
      "text/plain": [
       "array(['AstonVilla', 'BlackburnRovers', 'BoltonWanderers', 'Burnley',\n",
       "       'CardiffCity', 'Chelsea', 'CrystalPalace', 'Everton', 'Fulham',\n",
       "       'HullCity', 'LeicesterCity', 'Liverpool', 'ManchesterCity',\n",
       "       'ManchesterUnited', 'Middlesbrough', 'NewcastleUnited',\n",
       "       'NorwichCity', 'QueensParkRangers', 'Reading', 'Southampton',\n",
       "       'Sunderland', 'SwanseaCity', 'TottenhamHotspur', 'Watford',\n",
       "       'WestBromwichAlbion', 'WestHamUnited', 'WolverhamptonWanderers'],\n",
       "      dtype=object)"
      ]
     },
     "execution_count": 27,
     "metadata": {},
     "output_type": "execute_result"
    }
   ],
   "source": [
    "sackings.Club.unique()"
   ]
  },
  {
   "cell_type": "code",
   "execution_count": 28,
   "metadata": {},
   "outputs": [
    {
     "name": "stdout",
     "output_type": "stream",
     "text": [
      "['Arsenal', 'Birmingham', 'Blackburn', 'BlackburnRovers', 'Blackpool', 'Bolton', 'BoltonWanderers', 'Bournemouth', 'Brighton', 'Cardiff', 'CardiffCity', 'Huddersfield', 'Hull', 'HullCity', 'Leicester', 'LeicesterCity', 'ManCity', 'ManUnited', 'ManchesterCity', 'ManchesterUnited', 'Newcastle', 'NewcastleUnited', 'Norwich', 'NorwichCity', 'Portsmouth', 'QPR', 'QueensParkRangers', 'Stoke', 'Swansea', 'SwanseaCity', 'Tottenham', 'TottenhamHotspur', 'WestBrom', 'WestBromwichAlbion', 'WestHam', 'WestHamUnited', 'Wigan', 'WolverhamptonWanderers', 'Wolves']\n"
     ]
    }
   ],
   "source": [
    "# Find the union of final_data and sackings, then remove their intersection to reveal the different abbreviations/name of teams \n",
    "union = np.union1d(final_data.HomeTeam.unique(),sackings.Club.unique())\n",
    "inter = np.intersect1d(final_data.HomeTeam.unique(),sackings.Club.unique())\n",
    "print([item for item in union if item not in inter])"
   ]
  },
  {
   "cell_type": "code",
   "execution_count": 29,
   "metadata": {},
   "outputs": [],
   "source": [
    "# create dataframe to convert said names to match the ones in 'sackings' and convert\n",
    "convert = pd.DataFrame([['Blackburn','BlackburnRovers'],['Bolton','BoltonWanderers'],['Cardiff','CardiffCity'],\n",
    "                        ['Hull','HullCity'],['Leicester','LeicesterCity'],['ManCity','ManchesterCity'],\n",
    "                        ['ManUnited','ManchesterUnited'],['Newcastle','NewcastleUnited'],['Norwich','NorwichCity'],\n",
    "                        ['QPR','QueensParkRangers'],['Swansea','SwanseaCity'],['Tottenham','TottenhamHotspur'],\n",
    "                        ['WestBrom','WestBromwichAlbion'],['WestHam','WestHamUnited'],['Wolves','WolverhamptonWanderers']])\n",
    "\n",
    "for i in range(len(final_data)):\n",
    "    for j in range(len(convert)):\n",
    "        if final_data['HomeTeam'][i] == convert.iloc[j,0]:\n",
    "            final_data['HomeTeam'][i] = convert.iloc[j,1]\n",
    "        elif final_data['AwayTeam'][i] == convert.iloc[j,0]:\n",
    "            final_data['AwayTeam'][i] = convert.iloc[j,1]"
   ]
  },
  {
   "cell_type": "code",
   "execution_count": 30,
   "metadata": {},
   "outputs": [],
   "source": [
    "# Add rows consisting of ['Date','Status'] into our respective team dataframes\n",
    "# rows should include the date of their game and 3 for a win, 1 for a draw, and 0 for a loss\n",
    "gbl = globals()\n",
    "for i in range(len(final_data)):\n",
    "    # If the FullTimeResult (FTR) is 'H' then home team gets 3 points, away team gets 0\n",
    "    if (final_data['FTR'][i] == 'H'):   # for a given game, if the \"full time result\" is 'H' then the HomeTeam wins\n",
    "        if (final_data['HomeTeam'][i] in sackings.Club.unique()):  # if a dataframe exists for this team\n",
    "            gbl[final_data['HomeTeam'][i]] = gbl[final_data['HomeTeam'][i]].append(pd.Series([final_data['Date'][i], 3], index=['Date', 'Status']), ignore_index=True)\n",
    "        elif(final_data['AwayTeam'][i] in sackings.Club.unique()): # if a dataframe exists for this team\n",
    "            gbl[final_data['AwayTeam'][i]] = gbl[final_data['AwayTeam'][i]].append(pd.Series([final_data['Date'][i], 0], index=['Date', 'Status']), ignore_index=True)\n",
    "    # If the FullTimeResult (FTR) is 'A' then away team gets 3 points, home team gets 0\n",
    "    elif (final_data['FTR'][i] == 'A'): # for a given game, if the \"full time result\" is 'A' then the AwayTeam wins\n",
    "        if (final_data['HomeTeam'][i] in sackings.Club.unique()):  # if a dataframe exists for this team\n",
    "            gbl[final_data['HomeTeam'][i]] = gbl[final_data['HomeTeam'][i]].append(pd.Series([final_data['Date'][i], 0], index=['Date', 'Status']), ignore_index=True)\n",
    "        elif(final_data['AwayTeam'][i] in sackings.Club.unique()): # if a dataframe exists for this team\n",
    "            gbl[final_data['AwayTeam'][i]] = gbl[final_data['AwayTeam'][i]].append(pd.Series([final_data['Date'][i], 3], index=['Date', 'Status']), ignore_index=True)\n",
    "    # If the FullTimeResult (FTR) is 'D' then both teams gets 1 point\n",
    "    elif (final_data['FTR'][i] == 'D'): # for a given game, if the \"full time result\" is 'D' then it is a draw\n",
    "        if (final_data['HomeTeam'][i] in sackings.Club.unique()):  # if a dataframe exists for this team\n",
    "            gbl[final_data['HomeTeam'][i]] = gbl[final_data['HomeTeam'][i]].append(pd.Series([final_data['Date'][i], 1], index=['Date', 'Status']), ignore_index=True)\n",
    "        elif(final_data['AwayTeam'][i] in sackings.Club.unique()): # if a dataframe exists for this team\n",
    "            gbl[final_data['AwayTeam'][i]] = gbl[final_data['AwayTeam'][i]].append(pd.Series([final_data['Date'][i], 1], index=['Date', 'Status']), ignore_index=True)"
   ]
  },
  {
   "cell_type": "code",
   "execution_count": 31,
   "metadata": {},
   "outputs": [],
   "source": [
    "#sort by date\n",
    "for i in sackings.Club.unique():\n",
    "    gbl[i] = gbl[i].sort_values(by=['Date']).reset_index(drop=True)"
   ]
  },
  {
   "cell_type": "code",
   "execution_count": 32,
   "metadata": {},
   "outputs": [
    {
     "data": {
      "text/html": [
       "<div>\n",
       "<style scoped>\n",
       "    .dataframe tbody tr th:only-of-type {\n",
       "        vertical-align: middle;\n",
       "    }\n",
       "\n",
       "    .dataframe tbody tr th {\n",
       "        vertical-align: top;\n",
       "    }\n",
       "\n",
       "    .dataframe thead th {\n",
       "        text-align: right;\n",
       "    }\n",
       "</style>\n",
       "<table border=\"1\" class=\"dataframe\">\n",
       "  <thead>\n",
       "    <tr style=\"text-align: right;\">\n",
       "      <th></th>\n",
       "      <th>Date</th>\n",
       "      <th>Status</th>\n",
       "    </tr>\n",
       "  </thead>\n",
       "  <tbody>\n",
       "    <tr>\n",
       "      <th>211</th>\n",
       "      <td>2018/12/05</td>\n",
       "      <td>1</td>\n",
       "    </tr>\n",
       "    <tr>\n",
       "      <th>212</th>\n",
       "      <td>2018/12/08</td>\n",
       "      <td>3</td>\n",
       "    </tr>\n",
       "    <tr>\n",
       "      <th>213</th>\n",
       "      <td>2018/12/18</td>\n",
       "      <td>C</td>\n",
       "    </tr>\n",
       "    <tr>\n",
       "      <th>214</th>\n",
       "      <td>2018/12/19</td>\n",
       "      <td>C</td>\n",
       "    </tr>\n",
       "    <tr>\n",
       "      <th>215</th>\n",
       "      <td>2018/12/26</td>\n",
       "      <td>3</td>\n",
       "    </tr>\n",
       "    <tr>\n",
       "      <th>216</th>\n",
       "      <td>2018/12/30</td>\n",
       "      <td>3</td>\n",
       "    </tr>\n",
       "    <tr>\n",
       "      <th>217</th>\n",
       "      <td>2019/01/19</td>\n",
       "      <td>3</td>\n",
       "    </tr>\n",
       "    <tr>\n",
       "      <th>218</th>\n",
       "      <td>2019/01/29</td>\n",
       "      <td>1</td>\n",
       "    </tr>\n",
       "    <tr>\n",
       "      <th>219</th>\n",
       "      <td>2019/02/24</td>\n",
       "      <td>1</td>\n",
       "    </tr>\n",
       "    <tr>\n",
       "      <th>220</th>\n",
       "      <td>2019/03/02</td>\n",
       "      <td>3</td>\n",
       "    </tr>\n",
       "    <tr>\n",
       "      <th>221</th>\n",
       "      <td>2019/03/10</td>\n",
       "      <td>0</td>\n",
       "    </tr>\n",
       "    <tr>\n",
       "      <th>222</th>\n",
       "      <td>2019/03/30</td>\n",
       "      <td>3</td>\n",
       "    </tr>\n",
       "    <tr>\n",
       "      <th>223</th>\n",
       "      <td>2019/04/13</td>\n",
       "      <td>3</td>\n",
       "    </tr>\n",
       "    <tr>\n",
       "      <th>224</th>\n",
       "      <td>2019/04/24</td>\n",
       "      <td>0</td>\n",
       "    </tr>\n",
       "    <tr>\n",
       "      <th>225</th>\n",
       "      <td>2019/04/28</td>\n",
       "      <td>1</td>\n",
       "    </tr>\n",
       "    <tr>\n",
       "      <th>226</th>\n",
       "      <td>2019/05/05</td>\n",
       "      <td>1</td>\n",
       "    </tr>\n",
       "    <tr>\n",
       "      <th>227</th>\n",
       "      <td>2019/05/12</td>\n",
       "      <td>0</td>\n",
       "    </tr>\n",
       "  </tbody>\n",
       "</table>\n",
       "</div>"
      ],
      "text/plain": [
       "           Date Status\n",
       "211  2018/12/05      1\n",
       "212  2018/12/08      3\n",
       "213  2018/12/18      C\n",
       "214  2018/12/19      C\n",
       "215  2018/12/26      3\n",
       "216  2018/12/30      3\n",
       "217  2019/01/19      3\n",
       "218  2019/01/29      1\n",
       "219  2019/02/24      1\n",
       "220  2019/03/02      3\n",
       "221  2019/03/10      0\n",
       "222  2019/03/30      3\n",
       "223  2019/04/13      3\n",
       "224  2019/04/24      0\n",
       "225  2019/04/28      1\n",
       "226  2019/05/05      1\n",
       "227  2019/05/12      0"
      ]
     },
     "execution_count": 32,
     "metadata": {},
     "output_type": "execute_result"
    }
   ],
   "source": [
    "# As you can see below, an issue is the double row of 'Status' = 'C'\n",
    "ManchesterUnited.tail(17)"
   ]
  },
  {
   "cell_type": "code",
   "execution_count": 33,
   "metadata": {},
   "outputs": [],
   "source": [
    "# For each team dataframe, remove one of the double 'Status' = 'C' rows as shown above\n",
    "for i in sackings.Club.unique():\n",
    "    iterlen=len(gbl[i])\n",
    "    for j in range(iterlen-1):\n",
    "        if (gbl[i]['Status'][j] == 'C'and gbl[i]['Status'][j+1] == 'C'):\n",
    "            gbl[i] = gbl[i].drop([j])"
   ]
  },
  {
   "cell_type": "code",
   "execution_count": 34,
   "metadata": {},
   "outputs": [],
   "source": [
    "# For each team dataframe, if the first or  last 'Status' = 'C', remove the row.\n",
    "for k in sackings.Club.unique():\n",
    "    if (gbl[k]['Status'][len(gbl[k])-1] == 'C'):\n",
    "        gbl[k] = gbl[k].drop([len(gbl[k])-1])\n",
    "    gbl[k] = gbl[k].reset_index(drop=True)\n",
    "    \n",
    "for k in sackings.Club.unique():\n",
    "    if (gbl[k]['Status'][0] == 'C'):\n",
    "        gbl[k] = gbl[k].drop([0])\n",
    "    gbl[k] = gbl[k].reset_index(drop=True)"
   ]
  },
  {
   "cell_type": "code",
   "execution_count": 35,
   "metadata": {},
   "outputs": [],
   "source": [
    "for k in sackings.Club.unique():\n",
    "    if (gbl[k]['Status'][len(gbl[k])-1] == 'C'):\n",
    "        gbl[k] = gbl[k].drop([len(gbl[k])-1])\n",
    "    gbl[k] = gbl[k].reset_index(drop=True)"
   ]
  },
  {
   "cell_type": "code",
   "execution_count": 36,
   "metadata": {},
   "outputs": [
    {
     "name": "stdout",
     "output_type": "stream",
     "text": [
      "[14, 12]\n",
      "[]\n",
      "[]\n",
      "[13]\n",
      "[3, 10]\n",
      "[16, 66]\n",
      "[27, 43, 16]\n",
      "[]\n",
      "[9, 8, 8, 10]\n",
      "[63]\n",
      "[16, 34]\n",
      "[104]\n",
      "[]\n",
      "[103]\n",
      "[]\n",
      "[93, 27]\n",
      "[3]\n",
      "[18, 29]\n",
      "[]\n",
      "[116, 13]\n",
      "[33, 2, 6, 3, 33, 12]\n",
      "[39, 5, 15, 9, 22]\n",
      "[]\n",
      "[]\n",
      "[63, 24, 64, 2, 12]\n",
      "[]\n",
      "[]\n"
     ]
    }
   ],
   "source": [
    "for i in sackings.Club.unique():\n",
    "    temp = []\n",
    "    for j in range(len(gbl[i])):\n",
    "        if gbl[i].loc[j,'Status'] == 'C':\n",
    "            temp.append(j)\n",
    "    print([j-i for i, j in zip(temp[:-1], temp[1:])])"
   ]
  },
  {
   "cell_type": "code",
   "execution_count": 37,
   "metadata": {},
   "outputs": [],
   "source": [
    "#Remove special cases that are difficult to deal with using loops or functions\n",
    "\n",
    "CardiffCity = CardiffCity.drop([10,11,12]).reset_index(drop=True)\n",
    "Sunderland = Sunderland.drop([91,97,98,99,100]).reset_index(drop=True)\n",
    "SwanseaCity = SwanseaCity.drop([95,96,97,98,99]).reset_index(drop=True)\n",
    "WestBromwichAlbion = WestBromwichAlbion.drop([166,167,180]).reset_index(drop=True)\n",
    "\n",
    "del NorwichCity\n",
    "sackings = sackings.drop(list(sackings[sackings.Club=='NorwichCity'].index))\n",
    "sackings = sackings.reset_index(drop=True)"
   ]
  },
  {
   "cell_type": "code",
   "execution_count": null,
   "metadata": {},
   "outputs": [],
   "source": []
  },
  {
   "cell_type": "code",
   "execution_count": 38,
   "metadata": {},
   "outputs": [],
   "source": [
    "# Create \"before\" and \"after\" dataframes (5 game results before and after managerial change) for each instance of a change\n",
    "# call these dataframes \"team\"+index and \"team\"+index+\"_2\" and add a column with cumulative means\n",
    "\n",
    "finaldata = []\n",
    "for i in sackings.Club.unique():\n",
    "    k = 0\n",
    "    for j in range(len(gbl[i])):\n",
    "        if (gbl[i]['Status'][j] == 'C'):\n",
    "            k += 1\n",
    "            gbl[i+str(k)] = gbl[i][j-5:j].reset_index(drop=True)\n",
    "            gbl[i+str(k)]['Cumulative Mean'] = gbl[i+str(k)]['Status'][0:5].expanding().mean()\n",
    "            gbl[i+str(k)+'_2'] = gbl[i][j+1:j+6].reset_index(drop=True)\n",
    "            gbl[i+str(k)+'_2']['Cumulative Mean'] = gbl[i+str(k)+'_2']['Status'][0:5].expanding().mean()\n",
    "            finaldata.append([i+str(k),i+str(k)+'_2'])"
   ]
  },
  {
   "cell_type": "code",
   "execution_count": 39,
   "metadata": {},
   "outputs": [],
   "source": [
    "before = pd.DataFrame([])\n",
    "after = pd.DataFrame([])\n",
    "for i in finaldata:\n",
    "    before = pd.concat([before,gbl[i[0]]['Status']], axis =1)\n",
    "    after = pd.concat([after,gbl[i[1]]['Status']], axis =1)\n",
    "before = before.astype(float)\n",
    "after = after.astype(float)\n",
    "before.columns = range(before.shape[1])\n",
    "after.columns = range(after.shape[1])"
   ]
  },
  {
   "cell_type": "code",
   "execution_count": 40,
   "metadata": {},
   "outputs": [
    {
     "name": "stdout",
     "output_type": "stream",
     "text": [
      "Stored 'before' (DataFrame)\n",
      "Stored 'after' (DataFrame)\n"
     ]
    }
   ],
   "source": [
    "%store before\n",
    "%store after"
   ]
  },
  {
   "cell_type": "markdown",
   "metadata": {},
   "source": [
    "To conduct analysis on our data we will want to use a paired t-test. A paired t-test tests whether the means of two dependent groups are significantly difference from each other. But for our t-test to be valid we need to check the normality of the differences. To do so, we use the Shapiro-Wilk test."
   ]
  },
  {
   "cell_type": "code",
   "execution_count": 41,
   "metadata": {},
   "outputs": [
    {
     "data": {
      "text/plain": [
       "(0.9189518690109253, 1.137985712607037e-11)"
      ]
     },
     "execution_count": 41,
     "metadata": {},
     "output_type": "execute_result"
    }
   ],
   "source": [
    "import scipy\n",
    "from scipy import stats\n",
    "\n",
    "change = after-before\n",
    "stats.shapiro(change)"
   ]
  },
  {
   "cell_type": "markdown",
   "metadata": {},
   "source": [
    "Since the p-value above of 1.137985712607037e-11 is less than 0.05, we reject the null hypothesis and can conclude that the differences are NOT from a normal distribution. Hence, we must use the Wilcoxon Test instead of the paired t-test."
   ]
  },
  {
   "cell_type": "code",
   "execution_count": 42,
   "metadata": {},
   "outputs": [
    {
     "data": {
      "text/plain": [
       "WilcoxonResult(statistic=5658.0, pvalue=2.1057694023886934e-07)"
      ]
     },
     "execution_count": 42,
     "metadata": {},
     "output_type": "execute_result"
    }
   ],
   "source": [
    "scipy.stats.wilcoxon(np.array(pd.melt(before)['value']),np.array(pd.melt(after)['value']))"
   ]
  },
  {
   "cell_type": "code",
   "execution_count": 43,
   "metadata": {},
   "outputs": [
    {
     "data": {
      "text/plain": [
       "WilcoxonResult(statistic=141.5, pvalue=6.084365033589189e-07)"
      ]
     },
     "execution_count": 43,
     "metadata": {},
     "output_type": "execute_result"
    }
   ],
   "source": [
    "scipy.stats.wilcoxon(pd.array(before.mean()),pd.array(after.mean()))"
   ]
  },
  {
   "cell_type": "code",
   "execution_count": 44,
   "metadata": {},
   "outputs": [
    {
     "data": {
      "image/png": "[encoded data removed]",
      "text/plain": [
       "<Figure size 432x288 with 1 Axes>"
      ]
     },
     "metadata": {
      "needs_background": "light"
     },
     "output_type": "display_data"
    }
   ],
   "source": [
    "x = np.array(range(5))\n",
    "y = np.array(before.mean(axis=1))\n",
    "y2 = np.array(after.mean(axis=1))\n",
    "y_m = before.mean(axis=1).mean()\n",
    "y2_m = after.mean(axis=1).mean()\n",
    "my_xticks = ['1','2','3','4','5']\n",
    "plt.xticks(x, my_xticks)\n",
    "plt.plot(x, y, color='blue',label=\"before change\")\n",
    "plt.hlines(y_m, 0,4, color='blue',label=\"mean before change\", linestyle=\":\")\n",
    "plt.plot(x, y2, color='red',label=\"after change\")\n",
    "plt.hlines(y2_m, 0,4, color='red',label=\"mean after change\", linestyle=\":\")\n",
    "plt.ylabel(\"Points Per Game\")\n",
    "plt.xlabel(\"5 Games Before and After Change\")\n",
    "plt.title(\"Average PPG for 5 Games Before and After Sacking\")\n",
    "plt.legend()\n",
    "\n",
    "plt.ylim(0, 3)\n",
    "plt.savefig('PPG_ba.png')"
   ]
  },
  {
   "cell_type": "code",
   "execution_count": 45,
   "metadata": {},
   "outputs": [
    {
     "data": {
      "image/png": "[encoded data removed]",
      "text/plain": [
       "<Figure size 432x288 with 2 Axes>"
      ]
     },
     "metadata": {
      "needs_background": "light"
     },
     "output_type": "display_data"
    }
   ],
   "source": [
    "x = np.array(range(5))\n",
    "y = np.array(before.mean(axis=1))\n",
    "y2 = np.array(after.mean(axis=1))\n",
    "y_m = before.mean(axis=1).mean()\n",
    "y2_m = after.mean(axis=1).mean()\n",
    "my_xticks = ['1','2','3','4','5']\n",
    "\n",
    "plt.subplot(1, 2, 1)\n",
    "plt.xticks(x, my_xticks)\n",
    "plt.plot(x, y, color='blue')\n",
    "plt.hlines(y_m, 0,4, color='blue', linestyle=\":\")\n",
    "plt.hlines(y2_m, 0,4, color='red', linestyle=\":\")\n",
    "plt.ylabel(\"Points Per Game\")\n",
    "plt.title(\"5 Games Before Sacking\")\n",
    "plt.ylim(0, 3)\n",
    "\n",
    "\n",
    "plt.subplot(1, 2, 2)\n",
    "plt.xticks(x, my_xticks)\n",
    "plt.plot(x, y2, color='red')\n",
    "plt.hlines(y_m, 0,4, color='blue', linestyle=\":\")\n",
    "plt.hlines(y2_m, 0,4, color='red', linestyle=\":\")\n",
    "plt.title(\"5 Games After Sacking\")\n",
    "plt.ylim(0, 3)\n",
    "\n",
    "plt.show()"
   ]
  },
  {
   "cell_type": "code",
   "execution_count": null,
   "metadata": {},
   "outputs": [],
   "source": [
    "import seaborn as sns\n",
    "\n",
    "ya = np.array(before.mean(axis=0))\n",
    "ya2 = np.array(after.mean(axis=0))\n",
    "ya_m = before.mean(axis=0).mean()\n",
    "ya2_m = after.mean(axis=0).mean()\n",
    "sns.distplot(ya2, vertical=True, color=\"r\", bins = 10)\n",
    "sns.distplot(ya, vertical=True, color=\"b\", bins = 10)\n",
    "\n",
    "plt.hlines(ya_m, 0,1, color='blue',label=\"mean before change\", linestyle=\":\")\n",
    "plt.hlines(ya2_m, 0,1, color='red',label=\"mean after change\", linestyle=\":\")\n",
    "plt.ylabel(\"Points Per Game (PPG)\")\n",
    "plt.xlabel(\"Density\")\n",
    "plt.title(\"Densities of PPG\")\n",
    "plt.savefig('Densities_PPG.png')"
   ]
  },
  {
   "cell_type": "code",
   "execution_count": null,
   "metadata": {},
   "outputs": [],
   "source": [
    "box_plot_data=[ya,ya2]\n",
    "plt.boxplot(box_plot_data)\n",
    "plt.xticks([1,2], [\"Before\",\"After\"])\n",
    "plt.ylabel(\"Points Per Game (PPG)\")\n",
    "plt.xlabel(\"Managerial Sacking\")\n",
    "plt.title(\"Boxplots of PPG Before and After\")\n",
    "plt.savefig('Boxplot_PPG.png')"
   ]
  },
  {
   "cell_type": "code",
   "execution_count": null,
   "metadata": {},
   "outputs": [],
   "source": [
    "before_c = pd.DataFrame([])\n",
    "after_c = pd.DataFrame([])\n",
    "for i in finaldata:\n",
    "    before_c = pd.concat([before_c,gbl[i[0]]['Cumulative Mean']], axis =1)\n",
    "    after_c = pd.concat([after_c,gbl[i[1]]['Cumulative Mean']], axis =1)"
   ]
  },
  {
   "cell_type": "code",
   "execution_count": null,
   "metadata": {},
   "outputs": [],
   "source": [
    "x = np.array(range(5))\n",
    "yc = np.array(before_c.mean(axis=1))\n",
    "yc2 = np.array(after_c.mean(axis=1))\n",
    "my_xticks = ['1','2','3','4','5']\n",
    "plt.xticks(x, my_xticks)\n",
    "plt.plot(x, yc, color='blue',label=\"before change\")\n",
    "plt.plot(x, yc2, color='red',label=\"after change\")\n",
    "plt.ylabel(\"Points Per Game\")\n",
    "plt.xlabel(\"5 Games Before and After Change\")\n",
    "plt.title(\"Cumulative Average PPG for 5 Games Before and After Sacking\")\n",
    "plt.legend()\n",
    "\n",
    "plt.ylim(0, 3)\n",
    "plt.savefig('Cumavg_PPG.png')"
   ]
  }
 ],
 "metadata": {
  "kernelspec": {
   "display_name": "Python 3",
   "language": "python",
   "name": "python3"
  },
  "language_info": {
   "codemirror_mode": {
    "name": "ipython",
    "version": 3
   },
   "file_extension": ".py",
   "mimetype": "text/x-python",
   "name": "python",
   "nbconvert_exporter": "python",
   "pygments_lexer": "ipython3",
   "version": "3.7.3"
  }
 },
 "nbformat": 4,
 "nbformat_minor": 2
}
